{
 "metadata": {
  "language_info": {
   "codemirror_mode": {
    "name": "ipython",
    "version": 3
   },
   "file_extension": ".py",
   "mimetype": "text/x-python",
   "name": "python",
   "nbconvert_exporter": "python",
   "pygments_lexer": "ipython3",
   "version": "3.8.8"
  },
  "orig_nbformat": 4,
  "kernelspec": {
   "name": "python3",
   "display_name": "Python 3.8.8 64-bit ('base': conda)"
  },
  "interpreter": {
   "hash": "a6f0ea3511746b56e99e91b2198f20bf909c0cb157a4540bc11ba61f6cbb14fe"
  }
 },
 "nbformat": 4,
 "nbformat_minor": 2,
 "cells": [
  {
   "cell_type": "code",
   "execution_count": null,
   "metadata": {},
   "outputs": [],
   "source": [
    "#Jaime Andres Montemayor Molina\n",
    "#A01176573"
   ]
  },
  {
   "source": [
    "import numpy as np \n",
    "import pandas as pd "
   ],
   "cell_type": "code",
   "metadata": {},
   "execution_count": 6,
   "outputs": []
  },
  {
   "cell_type": "code",
   "execution_count": 102,
   "metadata": {},
   "outputs": [
    {
     "output_type": "execute_result",
     "data": {
      "text/plain": [
       "   Id     Name         Class  Style  Difficulty DamageType  Damage  \\\n",
       "0   1   Aatrox       Warrior      3           2          P       3   \n",
       "1   2     Ahri          Mage     10           2          M       3   \n",
       "2   3    Akali       Assasin      7           2         PM       3   \n",
       "3   4  Alistar  Tank-Support      7           1          M       1   \n",
       "4   5    Amumu          Tank      9           1          M       2   \n",
       "5   6   Anivia          Mage     10           3          M       3   \n",
       "6   7    Annie          Mage     10           1          M       3   \n",
       "\n",
       "   Sturdiness  Crowd-Control  Mobility  Functionality  \n",
       "0           3              2         2            2.0  \n",
       "1           1              2         3            1.0  \n",
       "2           1              1         3            1.0  \n",
       "3           3              3         1            2.0  \n",
       "4           3              3         1            1.0  \n",
       "5           1              3         1            2.0  \n",
       "6           1              3         1            2.0  "
      ],
      "text/html": "<div>\n<style scoped>\n    .dataframe tbody tr th:only-of-type {\n        vertical-align: middle;\n    }\n\n    .dataframe tbody tr th {\n        vertical-align: top;\n    }\n\n    .dataframe thead th {\n        text-align: right;\n    }\n</style>\n<table border=\"1\" class=\"dataframe\">\n  <thead>\n    <tr style=\"text-align: right;\">\n      <th></th>\n      <th>Id</th>\n      <th>Name</th>\n      <th>Class</th>\n      <th>Style</th>\n      <th>Difficulty</th>\n      <th>DamageType</th>\n      <th>Damage</th>\n      <th>Sturdiness</th>\n      <th>Crowd-Control</th>\n      <th>Mobility</th>\n      <th>Functionality</th>\n    </tr>\n  </thead>\n  <tbody>\n    <tr>\n      <th>0</th>\n      <td>1</td>\n      <td>Aatrox</td>\n      <td>Warrior</td>\n      <td>3</td>\n      <td>2</td>\n      <td>P</td>\n      <td>3</td>\n      <td>3</td>\n      <td>2</td>\n      <td>2</td>\n      <td>2.0</td>\n    </tr>\n    <tr>\n      <th>1</th>\n      <td>2</td>\n      <td>Ahri</td>\n      <td>Mage</td>\n      <td>10</td>\n      <td>2</td>\n      <td>M</td>\n      <td>3</td>\n      <td>1</td>\n      <td>2</td>\n      <td>3</td>\n      <td>1.0</td>\n    </tr>\n    <tr>\n      <th>2</th>\n      <td>3</td>\n      <td>Akali</td>\n      <td>Assasin</td>\n      <td>7</td>\n      <td>2</td>\n      <td>PM</td>\n      <td>3</td>\n      <td>1</td>\n      <td>1</td>\n      <td>3</td>\n      <td>1.0</td>\n    </tr>\n    <tr>\n      <th>3</th>\n      <td>4</td>\n      <td>Alistar</td>\n      <td>Tank-Support</td>\n      <td>7</td>\n      <td>1</td>\n      <td>M</td>\n      <td>1</td>\n      <td>3</td>\n      <td>3</td>\n      <td>1</td>\n      <td>2.0</td>\n    </tr>\n    <tr>\n      <th>4</th>\n      <td>5</td>\n      <td>Amumu</td>\n      <td>Tank</td>\n      <td>9</td>\n      <td>1</td>\n      <td>M</td>\n      <td>2</td>\n      <td>3</td>\n      <td>3</td>\n      <td>1</td>\n      <td>1.0</td>\n    </tr>\n    <tr>\n      <th>5</th>\n      <td>6</td>\n      <td>Anivia</td>\n      <td>Mage</td>\n      <td>10</td>\n      <td>3</td>\n      <td>M</td>\n      <td>3</td>\n      <td>1</td>\n      <td>3</td>\n      <td>1</td>\n      <td>2.0</td>\n    </tr>\n    <tr>\n      <th>6</th>\n      <td>7</td>\n      <td>Annie</td>\n      <td>Mage</td>\n      <td>10</td>\n      <td>1</td>\n      <td>M</td>\n      <td>3</td>\n      <td>1</td>\n      <td>3</td>\n      <td>1</td>\n      <td>2.0</td>\n    </tr>\n  </tbody>\n</table>\n</div>"
     },
     "metadata": {},
     "execution_count": 102
    }
   ],
   "source": [
    "#Pregunta 1\n",
    "df = pd.read_csv(\"LoL-Champions.csv\")\n",
    "df.head(7)"
   ]
  },
  {
   "cell_type": "code",
   "execution_count": 28,
   "metadata": {},
   "outputs": [
    {
     "output_type": "execute_result",
     "data": {
      "text/plain": [
       "      Id    Name         Class  Style  Difficulty DamageType  Damage  \\\n",
       "140  141     Zed       Assasin      6           3          P       3   \n",
       "141  142   Ziggs          Mage      9           2          M       3   \n",
       "142  143  Zilean  Mage-Support     10           2          M       2   \n",
       "143  144     Zoe          Mage     10           3          M       3   \n",
       "144  145    Zyra  Mage-Support     10           2          M       3   \n",
       "\n",
       "     Sturdiness  Crowd-Control  Mobility  Functionality  \n",
       "140           1              1         3            1.0  \n",
       "141           1              2         2            1.0  \n",
       "142           1              2         2            3.0  \n",
       "143           1              2         2            1.0  \n",
       "144           1              3         1            1.0  "
      ],
      "text/html": "<div>\n<style scoped>\n    .dataframe tbody tr th:only-of-type {\n        vertical-align: middle;\n    }\n\n    .dataframe tbody tr th {\n        vertical-align: top;\n    }\n\n    .dataframe thead th {\n        text-align: right;\n    }\n</style>\n<table border=\"1\" class=\"dataframe\">\n  <thead>\n    <tr style=\"text-align: right;\">\n      <th></th>\n      <th>Id</th>\n      <th>Name</th>\n      <th>Class</th>\n      <th>Style</th>\n      <th>Difficulty</th>\n      <th>DamageType</th>\n      <th>Damage</th>\n      <th>Sturdiness</th>\n      <th>Crowd-Control</th>\n      <th>Mobility</th>\n      <th>Functionality</th>\n    </tr>\n  </thead>\n  <tbody>\n    <tr>\n      <th>140</th>\n      <td>141</td>\n      <td>Zed</td>\n      <td>Assasin</td>\n      <td>6</td>\n      <td>3</td>\n      <td>P</td>\n      <td>3</td>\n      <td>1</td>\n      <td>1</td>\n      <td>3</td>\n      <td>1.0</td>\n    </tr>\n    <tr>\n      <th>141</th>\n      <td>142</td>\n      <td>Ziggs</td>\n      <td>Mage</td>\n      <td>9</td>\n      <td>2</td>\n      <td>M</td>\n      <td>3</td>\n      <td>1</td>\n      <td>2</td>\n      <td>2</td>\n      <td>1.0</td>\n    </tr>\n    <tr>\n      <th>142</th>\n      <td>143</td>\n      <td>Zilean</td>\n      <td>Mage-Support</td>\n      <td>10</td>\n      <td>2</td>\n      <td>M</td>\n      <td>2</td>\n      <td>1</td>\n      <td>2</td>\n      <td>2</td>\n      <td>3.0</td>\n    </tr>\n    <tr>\n      <th>143</th>\n      <td>144</td>\n      <td>Zoe</td>\n      <td>Mage</td>\n      <td>10</td>\n      <td>3</td>\n      <td>M</td>\n      <td>3</td>\n      <td>1</td>\n      <td>2</td>\n      <td>2</td>\n      <td>1.0</td>\n    </tr>\n    <tr>\n      <th>144</th>\n      <td>145</td>\n      <td>Zyra</td>\n      <td>Mage-Support</td>\n      <td>10</td>\n      <td>2</td>\n      <td>M</td>\n      <td>3</td>\n      <td>1</td>\n      <td>3</td>\n      <td>1</td>\n      <td>1.0</td>\n    </tr>\n  </tbody>\n</table>\n</div>"
     },
     "metadata": {},
     "execution_count": 28
    }
   ],
   "source": [
    "#Pregunta 2\n",
    "df.tail(5)"
   ]
  },
  {
   "cell_type": "code",
   "execution_count": 103,
   "metadata": {},
   "outputs": [
    {
     "output_type": "execute_result",
     "data": {
      "text/plain": [
       "                Class  Style  Difficulty DamageType  Damage  Sturdiness  \\\n",
       "Name                                                                      \n",
       "Aatrox        Warrior      3           2          P       3           3   \n",
       "Ahri             Mage     10           2          M       3           1   \n",
       "Akali         Assasin      7           2         PM       3           1   \n",
       "Alistar  Tank-Support      7           1          M       1           3   \n",
       "Amumu            Tank      9           1          M       2           3   \n",
       "...               ...    ...         ...        ...     ...         ...   \n",
       "Zed           Assasin      6           3          P       3           1   \n",
       "Ziggs            Mage      9           2          M       3           1   \n",
       "Zilean   Mage-Support     10           2          M       2           1   \n",
       "Zoe              Mage     10           3          M       3           1   \n",
       "Zyra     Mage-Support     10           2          M       3           1   \n",
       "\n",
       "         Crowd-Control  Mobility  Functionality  \n",
       "Name                                             \n",
       "Aatrox               2         2            2.0  \n",
       "Ahri                 2         3            1.0  \n",
       "Akali                1         3            1.0  \n",
       "Alistar              3         1            2.0  \n",
       "Amumu                3         1            1.0  \n",
       "...                ...       ...            ...  \n",
       "Zed                  1         3            1.0  \n",
       "Ziggs                2         2            1.0  \n",
       "Zilean               2         2            3.0  \n",
       "Zoe                  2         2            1.0  \n",
       "Zyra                 3         1            1.0  \n",
       "\n",
       "[145 rows x 9 columns]"
      ],
      "text/html": "<div>\n<style scoped>\n    .dataframe tbody tr th:only-of-type {\n        vertical-align: middle;\n    }\n\n    .dataframe tbody tr th {\n        vertical-align: top;\n    }\n\n    .dataframe thead th {\n        text-align: right;\n    }\n</style>\n<table border=\"1\" class=\"dataframe\">\n  <thead>\n    <tr style=\"text-align: right;\">\n      <th></th>\n      <th>Class</th>\n      <th>Style</th>\n      <th>Difficulty</th>\n      <th>DamageType</th>\n      <th>Damage</th>\n      <th>Sturdiness</th>\n      <th>Crowd-Control</th>\n      <th>Mobility</th>\n      <th>Functionality</th>\n    </tr>\n    <tr>\n      <th>Name</th>\n      <th></th>\n      <th></th>\n      <th></th>\n      <th></th>\n      <th></th>\n      <th></th>\n      <th></th>\n      <th></th>\n      <th></th>\n    </tr>\n  </thead>\n  <tbody>\n    <tr>\n      <th>Aatrox</th>\n      <td>Warrior</td>\n      <td>3</td>\n      <td>2</td>\n      <td>P</td>\n      <td>3</td>\n      <td>3</td>\n      <td>2</td>\n      <td>2</td>\n      <td>2.0</td>\n    </tr>\n    <tr>\n      <th>Ahri</th>\n      <td>Mage</td>\n      <td>10</td>\n      <td>2</td>\n      <td>M</td>\n      <td>3</td>\n      <td>1</td>\n      <td>2</td>\n      <td>3</td>\n      <td>1.0</td>\n    </tr>\n    <tr>\n      <th>Akali</th>\n      <td>Assasin</td>\n      <td>7</td>\n      <td>2</td>\n      <td>PM</td>\n      <td>3</td>\n      <td>1</td>\n      <td>1</td>\n      <td>3</td>\n      <td>1.0</td>\n    </tr>\n    <tr>\n      <th>Alistar</th>\n      <td>Tank-Support</td>\n      <td>7</td>\n      <td>1</td>\n      <td>M</td>\n      <td>1</td>\n      <td>3</td>\n      <td>3</td>\n      <td>1</td>\n      <td>2.0</td>\n    </tr>\n    <tr>\n      <th>Amumu</th>\n      <td>Tank</td>\n      <td>9</td>\n      <td>1</td>\n      <td>M</td>\n      <td>2</td>\n      <td>3</td>\n      <td>3</td>\n      <td>1</td>\n      <td>1.0</td>\n    </tr>\n    <tr>\n      <th>...</th>\n      <td>...</td>\n      <td>...</td>\n      <td>...</td>\n      <td>...</td>\n      <td>...</td>\n      <td>...</td>\n      <td>...</td>\n      <td>...</td>\n      <td>...</td>\n    </tr>\n    <tr>\n      <th>Zed</th>\n      <td>Assasin</td>\n      <td>6</td>\n      <td>3</td>\n      <td>P</td>\n      <td>3</td>\n      <td>1</td>\n      <td>1</td>\n      <td>3</td>\n      <td>1.0</td>\n    </tr>\n    <tr>\n      <th>Ziggs</th>\n      <td>Mage</td>\n      <td>9</td>\n      <td>2</td>\n      <td>M</td>\n      <td>3</td>\n      <td>1</td>\n      <td>2</td>\n      <td>2</td>\n      <td>1.0</td>\n    </tr>\n    <tr>\n      <th>Zilean</th>\n      <td>Mage-Support</td>\n      <td>10</td>\n      <td>2</td>\n      <td>M</td>\n      <td>2</td>\n      <td>1</td>\n      <td>2</td>\n      <td>2</td>\n      <td>3.0</td>\n    </tr>\n    <tr>\n      <th>Zoe</th>\n      <td>Mage</td>\n      <td>10</td>\n      <td>3</td>\n      <td>M</td>\n      <td>3</td>\n      <td>1</td>\n      <td>2</td>\n      <td>2</td>\n      <td>1.0</td>\n    </tr>\n    <tr>\n      <th>Zyra</th>\n      <td>Mage-Support</td>\n      <td>10</td>\n      <td>2</td>\n      <td>M</td>\n      <td>3</td>\n      <td>1</td>\n      <td>3</td>\n      <td>1</td>\n      <td>1.0</td>\n    </tr>\n  </tbody>\n</table>\n<p>145 rows × 9 columns</p>\n</div>"
     },
     "metadata": {},
     "execution_count": 103
    }
   ],
   "source": [
    "#Pregunta 3\n",
    "df = df.drop(columns=['Id'])\n",
    "df = df.set_index('Name')\n",
    "df"
   ]
  },
  {
   "cell_type": "code",
   "execution_count": 104,
   "metadata": {},
   "outputs": [
    {
     "output_type": "display_data",
     "data": {
      "text/plain": "                Class  Style  Difficulty DamageType  Damage  Sturdiness  \\\nName                                                                      \nZyra     Mage-Support     10           2          M       3           1   \nZoe              Mage     10           3          M       3           1   \nZilean   Mage-Support     10           2          M       2           1   \nZiggs            Mage      9           2          M       3           1   \nZed           Assasin      6           3          P       3           1   \n...               ...    ...         ...        ...     ...         ...   \nAmumu            Tank      9           1          M       2           3   \nAlistar  Tank-Support      7           1          M       1           3   \nAkali         Assasin      7           2         PM       3           1   \nAhri             Mage     10           2          M       3           1   \nAatrox        Warrior      3           2          P       3           3   \n\n         Crowd-Control  Mobility  Functionality  \nName                                             \nZyra                 3         1            1.0  \nZoe                  2         2            1.0  \nZilean               2         2            3.0  \nZiggs                2         2            1.0  \nZed                  1         3            1.0  \n...                ...       ...            ...  \nAmumu                3         1            1.0  \nAlistar              3         1            2.0  \nAkali                1         3            1.0  \nAhri                 2         3            1.0  \nAatrox               2         2            2.0  \n\n[145 rows x 9 columns]",
      "text/html": "<div>\n<style scoped>\n    .dataframe tbody tr th:only-of-type {\n        vertical-align: middle;\n    }\n\n    .dataframe tbody tr th {\n        vertical-align: top;\n    }\n\n    .dataframe thead th {\n        text-align: right;\n    }\n</style>\n<table border=\"1\" class=\"dataframe\">\n  <thead>\n    <tr style=\"text-align: right;\">\n      <th></th>\n      <th>Class</th>\n      <th>Style</th>\n      <th>Difficulty</th>\n      <th>DamageType</th>\n      <th>Damage</th>\n      <th>Sturdiness</th>\n      <th>Crowd-Control</th>\n      <th>Mobility</th>\n      <th>Functionality</th>\n    </tr>\n    <tr>\n      <th>Name</th>\n      <th></th>\n      <th></th>\n      <th></th>\n      <th></th>\n      <th></th>\n      <th></th>\n      <th></th>\n      <th></th>\n      <th></th>\n    </tr>\n  </thead>\n  <tbody>\n    <tr>\n      <th>Zyra</th>\n      <td>Mage-Support</td>\n      <td>10</td>\n      <td>2</td>\n      <td>M</td>\n      <td>3</td>\n      <td>1</td>\n      <td>3</td>\n      <td>1</td>\n      <td>1.0</td>\n    </tr>\n    <tr>\n      <th>Zoe</th>\n      <td>Mage</td>\n      <td>10</td>\n      <td>3</td>\n      <td>M</td>\n      <td>3</td>\n      <td>1</td>\n      <td>2</td>\n      <td>2</td>\n      <td>1.0</td>\n    </tr>\n    <tr>\n      <th>Zilean</th>\n      <td>Mage-Support</td>\n      <td>10</td>\n      <td>2</td>\n      <td>M</td>\n      <td>2</td>\n      <td>1</td>\n      <td>2</td>\n      <td>2</td>\n      <td>3.0</td>\n    </tr>\n    <tr>\n      <th>Ziggs</th>\n      <td>Mage</td>\n      <td>9</td>\n      <td>2</td>\n      <td>M</td>\n      <td>3</td>\n      <td>1</td>\n      <td>2</td>\n      <td>2</td>\n      <td>1.0</td>\n    </tr>\n    <tr>\n      <th>Zed</th>\n      <td>Assasin</td>\n      <td>6</td>\n      <td>3</td>\n      <td>P</td>\n      <td>3</td>\n      <td>1</td>\n      <td>1</td>\n      <td>3</td>\n      <td>1.0</td>\n    </tr>\n    <tr>\n      <th>...</th>\n      <td>...</td>\n      <td>...</td>\n      <td>...</td>\n      <td>...</td>\n      <td>...</td>\n      <td>...</td>\n      <td>...</td>\n      <td>...</td>\n      <td>...</td>\n    </tr>\n    <tr>\n      <th>Amumu</th>\n      <td>Tank</td>\n      <td>9</td>\n      <td>1</td>\n      <td>M</td>\n      <td>2</td>\n      <td>3</td>\n      <td>3</td>\n      <td>1</td>\n      <td>1.0</td>\n    </tr>\n    <tr>\n      <th>Alistar</th>\n      <td>Tank-Support</td>\n      <td>7</td>\n      <td>1</td>\n      <td>M</td>\n      <td>1</td>\n      <td>3</td>\n      <td>3</td>\n      <td>1</td>\n      <td>2.0</td>\n    </tr>\n    <tr>\n      <th>Akali</th>\n      <td>Assasin</td>\n      <td>7</td>\n      <td>2</td>\n      <td>PM</td>\n      <td>3</td>\n      <td>1</td>\n      <td>1</td>\n      <td>3</td>\n      <td>1.0</td>\n    </tr>\n    <tr>\n      <th>Ahri</th>\n      <td>Mage</td>\n      <td>10</td>\n      <td>2</td>\n      <td>M</td>\n      <td>3</td>\n      <td>1</td>\n      <td>2</td>\n      <td>3</td>\n      <td>1.0</td>\n    </tr>\n    <tr>\n      <th>Aatrox</th>\n      <td>Warrior</td>\n      <td>3</td>\n      <td>2</td>\n      <td>P</td>\n      <td>3</td>\n      <td>3</td>\n      <td>2</td>\n      <td>2</td>\n      <td>2.0</td>\n    </tr>\n  </tbody>\n</table>\n<p>145 rows × 9 columns</p>\n</div>"
     },
     "metadata": {}
    }
   ],
   "source": [
    "#Pregunta 4\n",
    "df = df.sort_values(by= 'Name', ascending= False)\n",
    "display(df)"
   ]
  },
  {
   "cell_type": "code",
   "execution_count": 105,
   "metadata": {},
   "outputs": [
    {
     "output_type": "execute_result",
     "data": {
      "text/plain": [
       "         Class  Style  Difficulty DamageType  Damage  Sturdiness  \\\n",
       "Name                                                               \n",
       "Shen      Tank      5           2         PM       2           3   \n",
       "Sejuani   Tank      8           2          M       2           2   \n",
       "Rammus    Tank      7           1         PM       2           3   \n",
       "Nunu      Tank      8           1          M       1           3   \n",
       "Maokai    Tank      8           1          M       1           3   \n",
       "Malphite  Tank      8           1          M       1           3   \n",
       "Leona     Tank      9           1          M       1           3   \n",
       "Amumu     Tank      9           1          M       2           3   \n",
       "\n",
       "          Crowd-Control  Mobility  Functionality  \n",
       "Name                                              \n",
       "Shen                  2         2            3.0  \n",
       "Sejuani               3         2            1.0  \n",
       "Rammus                3         2            1.0  \n",
       "Nunu                  2         1            2.0  \n",
       "Maokai                3         1            2.0  \n",
       "Malphite              3         1            1.0  \n",
       "Leona                 3         1            1.0  \n",
       "Amumu                 3         1            1.0  "
      ],
      "text/html": "<div>\n<style scoped>\n    .dataframe tbody tr th:only-of-type {\n        vertical-align: middle;\n    }\n\n    .dataframe tbody tr th {\n        vertical-align: top;\n    }\n\n    .dataframe thead th {\n        text-align: right;\n    }\n</style>\n<table border=\"1\" class=\"dataframe\">\n  <thead>\n    <tr style=\"text-align: right;\">\n      <th></th>\n      <th>Class</th>\n      <th>Style</th>\n      <th>Difficulty</th>\n      <th>DamageType</th>\n      <th>Damage</th>\n      <th>Sturdiness</th>\n      <th>Crowd-Control</th>\n      <th>Mobility</th>\n      <th>Functionality</th>\n    </tr>\n    <tr>\n      <th>Name</th>\n      <th></th>\n      <th></th>\n      <th></th>\n      <th></th>\n      <th></th>\n      <th></th>\n      <th></th>\n      <th></th>\n      <th></th>\n    </tr>\n  </thead>\n  <tbody>\n    <tr>\n      <th>Shen</th>\n      <td>Tank</td>\n      <td>5</td>\n      <td>2</td>\n      <td>PM</td>\n      <td>2</td>\n      <td>3</td>\n      <td>2</td>\n      <td>2</td>\n      <td>3.0</td>\n    </tr>\n    <tr>\n      <th>Sejuani</th>\n      <td>Tank</td>\n      <td>8</td>\n      <td>2</td>\n      <td>M</td>\n      <td>2</td>\n      <td>2</td>\n      <td>3</td>\n      <td>2</td>\n      <td>1.0</td>\n    </tr>\n    <tr>\n      <th>Rammus</th>\n      <td>Tank</td>\n      <td>7</td>\n      <td>1</td>\n      <td>PM</td>\n      <td>2</td>\n      <td>3</td>\n      <td>3</td>\n      <td>2</td>\n      <td>1.0</td>\n    </tr>\n    <tr>\n      <th>Nunu</th>\n      <td>Tank</td>\n      <td>8</td>\n      <td>1</td>\n      <td>M</td>\n      <td>1</td>\n      <td>3</td>\n      <td>2</td>\n      <td>1</td>\n      <td>2.0</td>\n    </tr>\n    <tr>\n      <th>Maokai</th>\n      <td>Tank</td>\n      <td>8</td>\n      <td>1</td>\n      <td>M</td>\n      <td>1</td>\n      <td>3</td>\n      <td>3</td>\n      <td>1</td>\n      <td>2.0</td>\n    </tr>\n    <tr>\n      <th>Malphite</th>\n      <td>Tank</td>\n      <td>8</td>\n      <td>1</td>\n      <td>M</td>\n      <td>1</td>\n      <td>3</td>\n      <td>3</td>\n      <td>1</td>\n      <td>1.0</td>\n    </tr>\n    <tr>\n      <th>Leona</th>\n      <td>Tank</td>\n      <td>9</td>\n      <td>1</td>\n      <td>M</td>\n      <td>1</td>\n      <td>3</td>\n      <td>3</td>\n      <td>1</td>\n      <td>1.0</td>\n    </tr>\n    <tr>\n      <th>Amumu</th>\n      <td>Tank</td>\n      <td>9</td>\n      <td>1</td>\n      <td>M</td>\n      <td>2</td>\n      <td>3</td>\n      <td>3</td>\n      <td>1</td>\n      <td>1.0</td>\n    </tr>\n  </tbody>\n</table>\n</div>"
     },
     "metadata": {},
     "execution_count": 105
    }
   ],
   "source": [
    "#Pregunta 5\n",
    "df[df.Class == \"Tank\"]"
   ]
  },
  {
   "cell_type": "code",
   "execution_count": 106,
   "metadata": {},
   "outputs": [],
   "source": [
    "#Pregunta 6\n",
    "noob = pd.DataFrame(df)\n",
    "noob = noob[noob.Difficulty < 3]\n",
    "noob.to_csv(\"noob.csv\")\n"
   ]
  },
  {
   "cell_type": "code",
   "execution_count": 107,
   "metadata": {},
   "outputs": [
    {
     "output_type": "execute_result",
     "data": {
      "text/plain": [
       "                    Class  Style  Difficulty DamageType  Damage  Sturdiness  \\\n",
       "Name                                                                          \n",
       "Yuumi             Support     10           1          M       1           1   \n",
       "Vladimir     Mage-Warrior     10           2          M       3           2   \n",
       "Sylas        Mage-Warrior      7           3          M       2           2   \n",
       "Nidalee           Assasin      8           3          M       3           1   \n",
       "Mordekaiser       Warrior      8           2          M       3           2   \n",
       "Katarina     Mage-Assasin     10           3          M       3           1   \n",
       "Kassadin     Mage-Assasin      9           2          M       3           2   \n",
       "Karthus              Mage     10           2          M       3           1   \n",
       "Evelynn           Assasin      8           2          M       2           2   \n",
       "\n",
       "             CC  Mobility  Functionality  \n",
       "Name                                      \n",
       "Yuumi         1         3            3.0  \n",
       "Vladimir      1         1            1.0  \n",
       "Sylas         1         3            1.0  \n",
       "Nidalee       1         3            2.0  \n",
       "Mordekaiser   1         1            2.0  \n",
       "Katarina      1         3            1.0  \n",
       "Kassadin      1         3            1.0  \n",
       "Karthus       1         1            2.0  \n",
       "Evelynn       1         2            2.0  "
      ],
      "text/html": "<div>\n<style scoped>\n    .dataframe tbody tr th:only-of-type {\n        vertical-align: middle;\n    }\n\n    .dataframe tbody tr th {\n        vertical-align: top;\n    }\n\n    .dataframe thead th {\n        text-align: right;\n    }\n</style>\n<table border=\"1\" class=\"dataframe\">\n  <thead>\n    <tr style=\"text-align: right;\">\n      <th></th>\n      <th>Class</th>\n      <th>Style</th>\n      <th>Difficulty</th>\n      <th>DamageType</th>\n      <th>Damage</th>\n      <th>Sturdiness</th>\n      <th>CC</th>\n      <th>Mobility</th>\n      <th>Functionality</th>\n    </tr>\n    <tr>\n      <th>Name</th>\n      <th></th>\n      <th></th>\n      <th></th>\n      <th></th>\n      <th></th>\n      <th></th>\n      <th></th>\n      <th></th>\n      <th></th>\n    </tr>\n  </thead>\n  <tbody>\n    <tr>\n      <th>Yuumi</th>\n      <td>Support</td>\n      <td>10</td>\n      <td>1</td>\n      <td>M</td>\n      <td>1</td>\n      <td>1</td>\n      <td>1</td>\n      <td>3</td>\n      <td>3.0</td>\n    </tr>\n    <tr>\n      <th>Vladimir</th>\n      <td>Mage-Warrior</td>\n      <td>10</td>\n      <td>2</td>\n      <td>M</td>\n      <td>3</td>\n      <td>2</td>\n      <td>1</td>\n      <td>1</td>\n      <td>1.0</td>\n    </tr>\n    <tr>\n      <th>Sylas</th>\n      <td>Mage-Warrior</td>\n      <td>7</td>\n      <td>3</td>\n      <td>M</td>\n      <td>2</td>\n      <td>2</td>\n      <td>1</td>\n      <td>3</td>\n      <td>1.0</td>\n    </tr>\n    <tr>\n      <th>Nidalee</th>\n      <td>Assasin</td>\n      <td>8</td>\n      <td>3</td>\n      <td>M</td>\n      <td>3</td>\n      <td>1</td>\n      <td>1</td>\n      <td>3</td>\n      <td>2.0</td>\n    </tr>\n    <tr>\n      <th>Mordekaiser</th>\n      <td>Warrior</td>\n      <td>8</td>\n      <td>2</td>\n      <td>M</td>\n      <td>3</td>\n      <td>2</td>\n      <td>1</td>\n      <td>1</td>\n      <td>2.0</td>\n    </tr>\n    <tr>\n      <th>Katarina</th>\n      <td>Mage-Assasin</td>\n      <td>10</td>\n      <td>3</td>\n      <td>M</td>\n      <td>3</td>\n      <td>1</td>\n      <td>1</td>\n      <td>3</td>\n      <td>1.0</td>\n    </tr>\n    <tr>\n      <th>Kassadin</th>\n      <td>Mage-Assasin</td>\n      <td>9</td>\n      <td>2</td>\n      <td>M</td>\n      <td>3</td>\n      <td>2</td>\n      <td>1</td>\n      <td>3</td>\n      <td>1.0</td>\n    </tr>\n    <tr>\n      <th>Karthus</th>\n      <td>Mage</td>\n      <td>10</td>\n      <td>2</td>\n      <td>M</td>\n      <td>3</td>\n      <td>1</td>\n      <td>1</td>\n      <td>1</td>\n      <td>2.0</td>\n    </tr>\n    <tr>\n      <th>Evelynn</th>\n      <td>Assasin</td>\n      <td>8</td>\n      <td>2</td>\n      <td>M</td>\n      <td>2</td>\n      <td>2</td>\n      <td>1</td>\n      <td>2</td>\n      <td>2.0</td>\n    </tr>\n  </tbody>\n</table>\n</div>"
     },
     "metadata": {},
     "execution_count": 107
    }
   ],
   "source": [
    "#Pregunta 7 \n",
    "df = df.rename(columns={\"Crowd-Control\":\"CC\"})\n",
    "df2 = df.loc[(df.DamageType == 'M')&(df.CC == 1)]\n",
    "df2"
   ]
  },
  {
   "cell_type": "code",
   "execution_count": null,
   "metadata": {},
   "outputs": [],
   "source": []
  }
 ]
}