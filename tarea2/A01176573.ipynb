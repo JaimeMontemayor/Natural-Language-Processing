{
 "metadata": {
  "language_info": {
   "codemirror_mode": {
    "name": "ipython",
    "version": 3
   },
   "file_extension": ".py",
   "mimetype": "text/x-python",
   "name": "python",
   "nbconvert_exporter": "python",
   "pygments_lexer": "ipython3",
   "version": "3.8.8"
  },
  "orig_nbformat": 4,
  "kernelspec": {
   "name": "python3",
   "display_name": "Python 3.8.8 64-bit ('base': conda)"
  },
  "interpreter": {
   "hash": "a6f0ea3511746b56e99e91b2198f20bf909c0cb157a4540bc11ba61f6cbb14fe"
  }
 },
 "nbformat": 4,
 "nbformat_minor": 2,
 "cells": [
  {
   "cell_type": "code",
   "execution_count": 22,
   "metadata": {},
   "outputs": [],
   "source": [
    "#Jaime Andrés Montemayor Molina\n",
    "#A01176573\n",
    "#Tarea 2"
   ]
  },
  {
   "cell_type": "code",
   "execution_count": 23,
   "metadata": {},
   "outputs": [
    {
     "output_type": "error",
     "ename": "SyntaxError",
     "evalue": "invalid syntax (<ipython-input-23-8b5c191d12d8>, line 1)",
     "traceback": [
      "\u001b[1;36m  File \u001b[1;32m\"<ipython-input-23-8b5c191d12d8>\"\u001b[1;36m, line \u001b[1;32m1\u001b[0m\n\u001b[1;33m    pip install requests\u001b[0m\n\u001b[1;37m        ^\u001b[0m\n\u001b[1;31mSyntaxError\u001b[0m\u001b[1;31m:\u001b[0m invalid syntax\n"
     ]
    }
   ],
   "source": [
    "pip install requests\n",
    "pip install beautifulsoup4"
   ]
  },
  {
   "cell_type": "code",
   "execution_count": 48,
   "metadata": {},
   "outputs": [],
   "source": [
    "import requests\n",
    "from bs4 import BeautifulSoup\n",
    "import csv"
   ]
  },
  {
   "cell_type": "code",
   "execution_count": 49,
   "metadata": {},
   "outputs": [
    {
     "output_type": "execute_result",
     "data": {
      "text/plain": [
       "11"
      ]
     },
     "metadata": {},
     "execution_count": 49
    }
   ],
   "source": [
    "f = csv.writer(open('z-artist-names.csv', 'w'))\n",
    "f.writerow(['Name', 'Link'])"
   ]
  },
  {
   "cell_type": "code",
   "execution_count": 52,
   "metadata": {},
   "outputs": [],
   "source": [
    "#Lista de paginas\n",
    "pages = []\n",
    "\n",
    "for i in range(1,4):\n",
    "    url = 'https://web.archive.org/web/20121007172955/https://www.nga.gov/collection/anZ' + str(i) + '.htm'\n",
    "    pages.append(url)"
   ]
  },
  {
   "cell_type": "code",
   "execution_count": 53,
   "metadata": {},
   "outputs": [],
   "source": [
    "for item in pages:\n",
    "    #Obtiene la primera pagina de la lista de artistas\n",
    "    page = requests.get(item)\n",
    "\n",
    "    #Crea el objeto de BeautifulSoup\n",
    "    soup = BeautifulSoup(page.text, 'html.parser')\n",
    "\n",
    "    #Eliminar links de abajo\n",
    "    last_links = soup.find(class_='AlphaNav')\n",
    "    last_links.decompose()\n",
    "\n",
    "    #Obtiene todo el texto del BodyText\n",
    "    artist_name_list = soup.find(class_='BodyText')\n",
    "\n",
    "    #Obtiene el texto de todas las instancias de <a> tag en la sección de Bodytext\n",
    "    artist_name_list_items = artist_name_list.find_all('a')\n",
    "\n",
    "    for artist_name in artist_name_list_items:\n",
    "        names = artist_name.contents[0]\n",
    "        links = 'https://web.archive.org' + artist_name.get('href')\n",
    "        #Agregar el nombre y link del artista en un renglon\n",
    "        f.writerow([names, links])"
   ]
  },
  {
   "cell_type": "code",
   "execution_count": null,
   "metadata": {},
   "outputs": [],
   "source": []
  }
 ]
}